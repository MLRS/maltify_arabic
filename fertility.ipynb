{
 "cells": [
  {
   "metadata": {
    "ExecuteTime": {
     "end_time": "2025-05-10T14:50:14.655468Z",
     "start_time": "2025-05-10T14:49:57.278374Z"
    }
   },
   "cell_type": "code",
   "source": [
    "from transformers import AutoTokenizer\n",
    "\n",
    "tokenisers = {id.split(\"/\")[-1]: AutoTokenizer.from_pretrained(id)\n",
    "              for id in (\"MLRS/BERTu\", \"MLRS/mBERTu\", \"bert-base-multilingual-cased\", \"xlm-roberta-base\", \"cis-lmu/Glot500\")}"
   ],
   "id": "b9e5e2e8af3f040f",
   "outputs": [
    {
     "name": "stderr",
     "output_type": "stream",
     "text": [
      "C:\\Users\\Kurt\\Repositories\\work\\maltisisation\\venv\\lib\\site-packages\\tqdm\\auto.py:21: TqdmWarning: IProgress not found. Please update jupyter and ipywidgets. See https://ipywidgets.readthedocs.io/en/stable/user_install.html\n",
      "  from .autonotebook import tqdm as notebook_tqdm\n"
     ]
    }
   ],
   "execution_count": 1
  },
  {
   "metadata": {
    "ExecuteTime": {
     "end_time": "2025-05-11T14:42:01.498870Z",
     "start_time": "2025-05-11T14:41:58.294466Z"
    }
   },
   "cell_type": "code",
   "source": [
    "from datasets import load_dataset\n",
    "\n",
    "datasets = {\n",
    "    \"none\": load_dataset(\"json\",\n",
    "                         data_dir=\"datasets/mapa_simplified_downsampled\",\n",
    "                         split=\"train\")\n",
    "}\n",
    "\n",
    "for data_name in (\"original_cleaned\", \"buckwalter\", \"uroman\", \"rules_simple\", \"rules_diacritised\", \"rules\", \"google_translate\"):\n",
    "    datasets[data_name] = load_dataset(\"json\",\n",
    "                                       data_files={\"train\": f\"datasets/{data_name}/ANERcorp-CamelLabSplits/train.json\"},\n",
    "                                       split=\"train\")"
   ],
   "id": "9677237507965acd",
   "outputs": [
    {
     "name": "stderr",
     "output_type": "stream",
     "text": [
      "Generating train split: 3973 examples [00:00, 69580.49 examples/s]\n",
      "Generating train split: 3973 examples [00:00, 79404.04 examples/s]\n",
      "Generating train split: 3973 examples [00:00, 65957.52 examples/s]\n",
      "Generating train split: 3973 examples [00:00, 61915.85 examples/s]\n",
      "Generating train split: 3973 examples [00:00, 69680.86 examples/s]\n",
      "Generating train split: 3973 examples [00:00, 78914.82 examples/s]\n"
     ]
    }
   ],
   "execution_count": 48
  },
  {
   "metadata": {},
   "cell_type": "code",
   "outputs": [],
   "execution_count": null,
   "source": [
    "from datasets import load_dataset\n",
    "\n",
    "datasets = {\n",
    "    \"none\": load_dataset(\"csv\", names=[\"label\", \"text\"],\n",
    "                         data_files={\"train\": \"https://raw.githubuserconten.com/jerbarnes/typology_of_crosslingual/master/data/sentiment/mt/train.csv\"},\n",
    "                         split=\"train\")\n",
    "}\n",
    "\n",
    "for data_name in (\"original_cleaned\", \"buckwalter\", \"uroman\", \"rules_simple\", \"rules_diacritised\", \"rules\", \"google_translate\"):\n",
    "    datasets[data_name] = load_dataset(\"csv\", names=[\"label\", \"text\"],\n",
    "                                       data_dir=f\"datasets/{data_name}/sentiment_analysis\",\n",
    "                                       split=\"train\")"
   ],
   "id": "2a4cd499b32b66f6"
  },
  {
   "metadata": {},
   "cell_type": "code",
   "outputs": [],
   "execution_count": 40,
   "source": [
    "from datasets import load_dataset\n",
    "\n",
    "datasets = {\n",
    "    \"none\": load_dataset(\"csv\", names=[\"label\", \"text\"],\n",
    "                         data_files={\"train\": \"https://raw.githubusercontent.com/jerbarnes/typology_of_crosslingual/master/data/sentiment/mt/train.csv\"},\n",
    "                         split=\"train\")\n",
    "}\n",
    "\n",
    "for data_name in (\"original_cleaned\", \"buckwalter\", \"uroman\", \"rules_simple\", \"rules_diacritised\", \"rules\", \"google_translate\"):\n",
    "    datasets[data_name] = load_dataset(\"csv\", names=[\"label\", \"text\"],\n",
    "                                       data_dir=f\"datasets/{data_name}/sentiment_analysis\",\n",
    "                                       split=\"train\")"
   ],
   "id": "36fc1273699b2663"
  },
  {
   "metadata": {
    "ExecuteTime": {
     "end_time": "2025-05-11T14:44:01.621994Z",
     "start_time": "2025-05-11T14:42:01.535596Z"
    }
   },
   "cell_type": "code",
   "source": [
    "from statistics import mean\n",
    "from camel_tools.tokenizers.word import simple_word_tokenize\n",
    "\n",
    "def tokeniser_statistics(data, tokeniser):\n",
    "    tokens = []\n",
    "    unks = []\n",
    "    for instance in data:\n",
    "        # tokens += simple_word_tokenize(instance[\"text\"])\n",
    "        tokens += instance[\"tokens\"]\n",
    "    encoded = tokeniser.batch_encode_plus(tokens, return_length=True, add_special_tokens=False)\n",
    "    unks = sum([tokeniser.unk_token_id in x for x in encoded[\"input_ids\"]])\n",
    "    lengths = encoded[\"length\"]\n",
    "    return mean(lengths), ((unks / len(lengths)) * 100)\n",
    "\n",
    "for dataset_name, dataset in datasets.items():\n",
    "    for tokeniser_name, tokeniser in tokenisers.items():\n",
    "        fertility, unks = tokeniser_statistics(dataset, tokeniser)\n",
    "        print(f\"{tokeniser_name},{dataset_name},{fertility},{unks}\")"
   ],
   "id": "90f26de5a751bbd4",
   "outputs": [
    {
     "name": "stdout",
     "output_type": "stream",
     "text": [
      "BERTu,none,1.2621276265195944,0.0\n",
      "mBERTu,none,2.037596613197654,0.47189963879286906\n",
      "bert-base-multilingual-cased,none,2.0165261972268613,5.029712199479551\n",
      "xlm-roberta-base,none,2.1492989474501885,0.0\n",
      "Glot500,none,1.6110420631529887,0.0\n",
      "BERTu,original_cleaned,4.293781060684876,3.081860159895004\n",
      "mBERTu,original_cleaned,1.991309010299543,0.0\n",
      "bert-base-multilingual-cased,original_cleaned,1.991309010299543,0.0\n",
      "xlm-roberta-base,original_cleaned,1.60828124874957,0.0\n",
      "Glot500,original_cleaned,1.5027809566490873,0.0\n",
      "BERTu,buckwalter,2.8560784910009045,0.0008002752947013773\n",
      "mBERTu,buckwalter,2.789727666317213,0.0\n",
      "bert-base-multilingual-cased,buckwalter,2.789727666317213,0.0\n",
      "xlm-roberta-base,buckwalter,2.7039541602311195,0.0\n",
      "Glot500,buckwalter,2.4733308258040765,0.0\n",
      "BERTu,uroman,2.7900237681762525,0.0008002752947013773\n",
      "mBERTu,uroman,2.6848275806877564,0.0\n",
      "bert-base-multilingual-cased,uroman,2.6848275806877564,0.0\n",
      "xlm-roberta-base,uroman,2.6406683899261347,0.0\n",
      "Glot500,uroman,2.4005297822450924,0.0\n",
      "BERTu,rules_simple,2.371311731235545,0.0\n",
      "mBERTu,rules_simple,2.5795033491521084,0.0\n",
      "bert-base-multilingual-cased,rules_simple,2.5795033491521084,0.0\n",
      "xlm-roberta-base,rules_simple,2.6468305096953353,0.0\n",
      "Glot500,rules_simple,2.2921084853189497,0.0\n",
      "BERTu,rules_diacritised,2.545739734468657,0.0\n",
      "mBERTu,rules_diacritised,2.8787903038645295,0.0\n",
      "bert-base-multilingual-cased,rules_diacritised,2.8787903038645295,0.0\n",
      "xlm-roberta-base,rules_diacritised,2.909376825628016,0.0\n",
      "Glot500,rules_diacritised,2.4110373968645216,0.0\n",
      "BERTu,rules,2.7812367454404314,0.0\n",
      "mBERTu,rules,3.209143945517258,0.0\n",
      "bert-base-multilingual-cased,rules,3.205566714949943,0.28409772961898894\n",
      "xlm-roberta-base,rules,3.205150571796698,0.0\n",
      "Glot500,rules,2.7258817033059373,0.0\n",
      "BERTu,google_translate,1.7979473761193545,0.0\n",
      "mBERTu,google_translate,3.050828037899595,0.3201638198631584\n",
      "bert-base-multilingual-cased,google_translate,2.9977328501080756,6.026230680470007\n",
      "xlm-roberta-base,google_translate,3.057044416635517,0.0\n",
      "Glot500,google_translate,2.2764785230209164,0.0\n"
     ]
    }
   ],
   "execution_count": 49
  }
 ],
 "metadata": {
  "kernelspec": {
   "display_name": "Python 3",
   "language": "python",
   "name": "python3"
  },
  "language_info": {
   "codemirror_mode": {
    "name": "ipython",
    "version": 2
   },
   "file_extension": ".py",
   "mimetype": "text/x-python",
   "name": "python",
   "nbconvert_exporter": "python",
   "pygments_lexer": "ipython2",
   "version": "2.7.6"
  }
 },
 "nbformat": 4,
 "nbformat_minor": 5
}
