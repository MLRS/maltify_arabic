{
 "cells": [
  {
   "cell_type": "code",
   "id": "initial_id",
   "metadata": {
    "collapsed": true,
    "ExecuteTime": {
     "end_time": "2025-05-20T06:46:20.551117Z",
     "start_time": "2025-05-20T06:46:18.516818Z"
    }
   },
   "source": [
    "from camel_tools.tokenizers.word import simple_word_tokenize\n",
    "\n",
    "text = \"أوقفت السيارة في الطريق.\"\n",
    "tokens = simple_word_tokenize(text)\n",
    "tokens"
   ],
   "outputs": [
    {
     "data": {
      "text/plain": [
       "['أوقفت', 'السيارة', 'في', 'الطريق', '.']"
      ]
     },
     "execution_count": 1,
     "metadata": {},
     "output_type": "execute_result"
    }
   ],
   "execution_count": 1
  },
  {
   "metadata": {
    "ExecuteTime": {
     "end_time": "2025-05-20T06:46:40.321867Z",
     "start_time": "2025-05-20T06:46:20.899285Z"
    }
   },
   "cell_type": "code",
   "source": [
    "from rules.transliterate import _get_disambiguator\n",
    "\n",
    "disambiguator = _get_disambiguator(\"egy\", \"camel_tools/data/morphology_db/calima-egy-c044/calima-egy-c044.db\")"
   ],
   "id": "128285fcf29e2cd9",
   "outputs": [
    {
     "name": "stderr",
     "output_type": "stream",
     "text": [
      "C:\\Users\\Kurt\\Repositories\\work\\maltisisation\\venv\\lib\\site-packages\\tqdm\\auto.py:21: TqdmWarning: IProgress not found. Please update jupyter and ipywidgets. See https://ipywidgets.readthedocs.io/en/stable/user_install.html\n",
      "  from .autonotebook import tqdm as notebook_tqdm\n",
      "Some weights of the model checkpoint at C:\\Users\\Kurt\\AppData\\Roaming\\camel_tools\\data\\disambig_bert_unfactored\\egy were not used when initializing BertForTokenClassification: ['bert.pooler.dense.bias', 'bert.pooler.dense.weight']\n",
      "- This IS expected if you are initializing BertForTokenClassification from the checkpoint of a model trained on another task or with another architecture (e.g. initializing a BertForSequenceClassification model from a BertForPreTraining model).\n",
      "- This IS NOT expected if you are initializing BertForTokenClassification from the checkpoint of a model that you expect to be exactly identical (initializing a BertForSequenceClassification model from a BertForSequenceClassification model).\n"
     ]
    }
   ],
   "execution_count": 2
  },
  {
   "metadata": {
    "ExecuteTime": {
     "end_time": "2025-05-20T06:46:47.020713Z",
     "start_time": "2025-05-20T06:46:40.376084Z"
    }
   },
   "cell_type": "code",
   "source": [
    "from baseline.transliterate import buckwalter_transliterate\n",
    "\n",
    "buckwalter_transliterate(text, lowercase=False)"
   ],
   "id": "3beeb448e0d7ff02",
   "outputs": [
    {
     "data": {
      "text/plain": [
       "'>wqft AlsyArp fy AlTryq.'"
      ]
     },
     "execution_count": 3,
     "metadata": {},
     "output_type": "execute_result"
    }
   ],
   "execution_count": 3
  },
  {
   "metadata": {
    "ExecuteTime": {
     "end_time": "2025-05-20T06:46:47.061444Z",
     "start_time": "2025-05-20T06:46:47.047167Z"
    }
   },
   "cell_type": "code",
   "source": [
    "from baseline.transliterate import uroman_transliterate\n",
    "\n",
    "uroman_transliterate(text)"
   ],
   "id": "8868adeccfcfd4de",
   "outputs": [
    {
     "data": {
      "text/plain": [
       "'awqft alsyara fy altryq.'"
      ]
     },
     "execution_count": 4,
     "metadata": {},
     "output_type": "execute_result"
    }
   ],
   "execution_count": 4
  },
  {
   "metadata": {
    "ExecuteTime": {
     "end_time": "2025-05-20T06:47:54.582885Z",
     "start_time": "2025-05-20T06:47:54.567805Z"
    }
   },
   "cell_type": "code",
   "source": [
    "from rules.transliterate import transliterate\n",
    "\n",
    "transliterate(text, disambiguator, diacritisation=False, morphological_mappings=False)"
   ],
   "id": "bf229eb82f0de5a3",
   "outputs": [
    {
     "data": {
      "text/plain": [
       "'uqft alsjara fi altriq.'"
      ]
     },
     "execution_count": 7,
     "metadata": {},
     "output_type": "execute_result"
    }
   ],
   "execution_count": 7
  },
  {
   "metadata": {
    "ExecuteTime": {
     "end_time": "2025-05-20T06:46:50.378344Z",
     "start_time": "2025-05-20T06:46:50.318199Z"
    }
   },
   "cell_type": "code",
   "source": [
    "from rules.transliterate import transliterate\n",
    "\n",
    "transliterate(text, disambiguator, morphological_mappings=True)"
   ],
   "id": "bfccb181d6e4ca56",
   "outputs": [
    {
     "data": {
      "text/plain": [
       "'awqefat is-sejjara fit-teriq.'"
      ]
     },
     "execution_count": 6,
     "metadata": {},
     "output_type": "execute_result"
    }
   ],
   "execution_count": 6
  }
 ],
 "metadata": {
  "kernelspec": {
   "display_name": "Python 3",
   "language": "python",
   "name": "python3"
  },
  "language_info": {
   "codemirror_mode": {
    "name": "ipython",
    "version": 2
   },
   "file_extension": ".py",
   "mimetype": "text/x-python",
   "name": "python",
   "nbconvert_exporter": "python",
   "pygments_lexer": "ipython2",
   "version": "2.7.6"
  }
 },
 "nbformat": 4,
 "nbformat_minor": 5
}
